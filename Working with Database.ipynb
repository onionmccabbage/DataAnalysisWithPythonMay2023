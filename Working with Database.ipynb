{
 "cells": [
  {
   "cell_type": "markdown",
   "id": "54e91ea2",
   "metadata": {},
   "source": [
    "### Databases and Python"
   ]
  },
  {
   "cell_type": "code",
   "execution_count": 1,
   "id": "c3aec58e",
   "metadata": {},
   "outputs": [],
   "source": [
    "# Python comes with a database built in. It is called sqlite3\n",
    "import sqlite3"
   ]
  },
  {
   "cell_type": "markdown",
   "id": "36f2de36",
   "metadata": {},
   "source": [
    "#### Create a database with one table"
   ]
  },
  {
   "cell_type": "code",
   "execution_count": 4,
   "id": "aa9b9355",
   "metadata": {},
   "outputs": [
    {
     "ename": "OperationalError",
     "evalue": "table zoo already exists",
     "output_type": "error",
     "traceback": [
      "\u001b[1;31m---------------------------------------------------------------------------\u001b[0m",
      "\u001b[1;31mOperationalError\u001b[0m                          Traceback (most recent call last)",
      "Input \u001b[1;32mIn [4]\u001b[0m, in \u001b[0;36m<cell line: 13>\u001b[1;34m()\u001b[0m\n\u001b[0;32m      4\u001b[0m \u001b[38;5;66;03m# we need an SQL statement\u001b[39;00m\n\u001b[0;32m      5\u001b[0m st \u001b[38;5;241m=\u001b[39m \u001b[38;5;124m'''\u001b[39m\n\u001b[0;32m      6\u001b[0m \u001b[38;5;124mCREATE TABLE zoo\u001b[39m\n\u001b[0;32m      7\u001b[0m \u001b[38;5;124m(\u001b[39m\n\u001b[1;32m   (...)\u001b[0m\n\u001b[0;32m     11\u001b[0m \u001b[38;5;124m)\u001b[39m\n\u001b[0;32m     12\u001b[0m \u001b[38;5;124m'''\u001b[39m\n\u001b[1;32m---> 13\u001b[0m \u001b[43mcurs\u001b[49m\u001b[38;5;241;43m.\u001b[39;49m\u001b[43mexecute\u001b[49m\u001b[43m(\u001b[49m\u001b[43mst\u001b[49m\u001b[43m)\u001b[49m\n\u001b[0;32m     14\u001b[0m conn\u001b[38;5;241m.\u001b[39mcommit() \u001b[38;5;66;03m# commit all changes\u001b[39;00m\n\u001b[0;32m     15\u001b[0m conn\u001b[38;5;241m.\u001b[39mclose()\n",
      "\u001b[1;31mOperationalError\u001b[0m: table zoo already exists"
     ]
    }
   ],
   "source": [
    "# here we tell Python to either create or use a database\n",
    "# NB we only need ot run this ONCE to make the table\n",
    "conn = sqlite3.connect('mydb')\n",
    "curs = conn.cursor() # the cursor lets us access members of the database\n",
    "# we need an SQL statement\n",
    "st = '''\n",
    "CREATE TABLE zoo\n",
    "(\n",
    "    creature VARCHAR(32) PRIMARY KEY,\n",
    "    count INT,\n",
    "    cost FLOAT\n",
    ")\n",
    "'''\n",
    "curs.execute(st)\n",
    "conn.commit() # commit all changes\n",
    "conn.close() # tidy up"
   ]
  },
  {
   "cell_type": "markdown",
   "id": "4109ac2d",
   "metadata": {},
   "source": [
    "#### Populate the DB table with data"
   ]
  },
  {
   "cell_type": "code",
   "execution_count": 5,
   "id": "db8c62bf",
   "metadata": {},
   "outputs": [],
   "source": [
    "conn = sqlite3.connect('mydb')\n",
    "curs = conn.cursor()\n",
    "st = '''\n",
    "INSERT INTO zoo\n",
    "VALUES (\"Penguin\", 16, 0.62)\n",
    "'''\n",
    "curs.execute(st)\n",
    "conn.commit()\n",
    "conn.close()"
   ]
  },
  {
   "cell_type": "markdown",
   "id": "5811157f",
   "metadata": {},
   "source": [
    "#### Read back from the database table"
   ]
  },
  {
   "cell_type": "code",
   "execution_count": null,
   "id": "a7e853c4",
   "metadata": {},
   "outputs": [],
   "source": [
    "conn = sqlite3.connect('mydb')\n",
    "curs = conn.cursor()\n",
    "st = '''\n",
    "SELECT creature, count, cost FROM zoo\n",
    "'''\n",
    "curs.execute(st)\n",
    "# we can get the results of this\n",
    "rows = curs.\n",
    "conn.commit()\n",
    "conn.close()"
   ]
  },
  {
   "cell_type": "markdown",
   "id": "3a5b2e0b",
   "metadata": {},
   "source": [
    "#### Update values in the database"
   ]
  },
  {
   "cell_type": "code",
   "execution_count": null,
   "id": "5e61869b",
   "metadata": {},
   "outputs": [],
   "source": []
  }
 ],
 "metadata": {
  "kernelspec": {
   "display_name": "Python 3 (ipykernel)",
   "language": "python",
   "name": "python3"
  },
  "language_info": {
   "codemirror_mode": {
    "name": "ipython",
    "version": 3
   },
   "file_extension": ".py",
   "mimetype": "text/x-python",
   "name": "python",
   "nbconvert_exporter": "python",
   "pygments_lexer": "ipython3",
   "version": "3.9.12"
  }
 },
 "nbformat": 4,
 "nbformat_minor": 5
}
