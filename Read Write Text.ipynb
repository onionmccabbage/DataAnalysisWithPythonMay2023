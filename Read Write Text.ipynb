{
 "cells": [
  {
   "cell_type": "markdown",
   "id": "eaf83b35",
   "metadata": {},
   "source": [
    "## Working with Text Files (FIFO)"
   ]
  },
  {
   "cell_type": "code",
   "execution_count": 53,
   "id": "d8ee5e48",
   "metadata": {},
   "outputs": [],
   "source": [
    "# it is really easy to write to a text file\n",
    "words = 'time for coffee!!!'\n",
    "# we need a file access object (defaults to text)\n",
    "fout = open('myfile.txt', 'a') # 'a' to append. 'w' to (over)write 'x' for exclusive access\n",
    "print(words, file=fout)\n",
    "fout.close() # tidy up!!\n"
   ]
  },
  {
   "cell_type": "code",
   "execution_count": 55,
   "id": "91a5270b",
   "metadata": {},
   "outputs": [
    {
     "data": {
      "text/plain": [
       "['time for coffee!!!\\n',\n",
       " 'time for coffee!!!\\n',\n",
       " 'time for coffee!!!\\n',\n",
       " 'time for coffee!!!\\n',\n",
       " 'time for coffee!!!\\n',\n",
       " 'time for coffee!!!\\n',\n",
       " 'time for coffee!!!\\n',\n",
       " 'time for coffee!!!\\n',\n",
       " 'time for coffee!!!\\n',\n",
       " 'time for coffee!!!\\n',\n",
       " 'time for coffee!!!\\n',\n",
       " 'time for coffee!!!\\n',\n",
       " 'time for coffee!!!\\n',\n",
       " 'time for coffee!!!\\n',\n",
       " 'time for coffee!!!\\n',\n",
       " 'time for coffee!!!\\n',\n",
       " 'time for coffee!!!\\n',\n",
       " 'time for coffee!!!\\n',\n",
       " 'time for coffee!!!\\n',\n",
       " 'time for coffee!!!\\n',\n",
       " 'time for coffee!!!\\n',\n",
       " 'time for coffee!!!\\n',\n",
       " 'time for coffee!!!\\n',\n",
       " 'time for coffee!!!\\n',\n",
       " 'time for coffee!!!\\n',\n",
       " 'time for coffee!!!\\n',\n",
       " 'time for coffee!!!\\n',\n",
       " 'time for coffee!!!\\n',\n",
       " 'time for coffee!!!\\n',\n",
       " 'time for coffee!!!\\n',\n",
       " 'time for coffee!!!\\n']"
      ]
     },
     "execution_count": 55,
     "metadata": {},
     "output_type": "execute_result"
    }
   ],
   "source": [
    "# we can read using pd.read_csv, read_json etc. OR...\n",
    "# use a file access object\n",
    "fin = open('myfile.txt', 'r') # 'r' means read\n",
    "# received = fin.read() # read will read in the whole file\n",
    "received = fin.readlines() # readlines will read every line into a list\n",
    "received"
   ]
  },
  {
   "cell_type": "markdown",
   "id": "207027cc",
   "metadata": {},
   "source": [
    "### Data Strategies"
   ]
  },
  {
   "cell_type": "markdown",
   "id": "704d7589",
   "metadata": {},
   "source": [
    "Text Files\n",
    "Use text read/write for short pieces of data. Can be s-l-o-w\n",
    "Text files are the easiest and handy for making brief notes\n",
    "\n",
    "Comma Separated Variable (csv) files\n",
    "These are like spreadsheets, but with no limit on size\n",
    "Since csv is text is can be slower than Database access\n",
    "Access using pd.read_csv\n",
    "\n",
    "Excel Spreadsheets\n",
    "Familiar and useful, but limit on total size\n",
    "Can be s-l-o-w for calculations, so import to Pandas (very much faster)\n",
    "e.g. pd.read-excel\n",
    "\n",
    "Database\n",
    "Very fast for any size data. Use SQL statements to create, read update and delete data (CRUD)\n",
    "\n",
    "API\n",
    "Sometimes useful to provide data via a website - an Application Programming Interface (API)"
   ]
  },
  {
   "cell_type": "code",
   "execution_count": null,
   "id": "c2436fd8",
   "metadata": {},
   "outputs": [],
   "source": []
  },
  {
   "cell_type": "code",
   "execution_count": null,
   "id": "e183f3c4",
   "metadata": {},
   "outputs": [],
   "source": []
  },
  {
   "cell_type": "code",
   "execution_count": null,
   "id": "adb2c838",
   "metadata": {},
   "outputs": [],
   "source": []
  },
  {
   "cell_type": "code",
   "execution_count": null,
   "id": "f411318e",
   "metadata": {},
   "outputs": [],
   "source": []
  },
  {
   "cell_type": "code",
   "execution_count": null,
   "id": "74f29817",
   "metadata": {},
   "outputs": [],
   "source": []
  }
 ],
 "metadata": {
  "kernelspec": {
   "display_name": "Python 3 (ipykernel)",
   "language": "python",
   "name": "python3"
  },
  "language_info": {
   "codemirror_mode": {
    "name": "ipython",
    "version": 3
   },
   "file_extension": ".py",
   "mimetype": "text/x-python",
   "name": "python",
   "nbconvert_exporter": "python",
   "pygments_lexer": "ipython3",
   "version": "3.9.12"
  }
 },
 "nbformat": 4,
 "nbformat_minor": 5
}
