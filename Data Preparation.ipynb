{
 "cells": [
  {
   "cell_type": "markdown",
   "id": "883935f4",
   "metadata": {},
   "source": [
    "## Preparing and Cleaning Data"
   ]
  },
  {
   "cell_type": "code",
   "execution_count": 3,
   "id": "f3651be6",
   "metadata": {},
   "outputs": [],
   "source": [
    "# copy and paste this each time\n",
    "import numpy as np\n",
    "import pandas as pd\n",
    "import matplotlib.pyplot as plt"
   ]
  },
  {
   "cell_type": "code",
   "execution_count": 21,
   "id": "275385a1",
   "metadata": {},
   "outputs": [
    {
     "data": {
      "text/plain": [
       "0    1.0\n",
       "1    2.0\n",
       "2    3.0\n",
       "3    4.0\n",
       "4    5.0\n",
       "5    NaN\n",
       "dtype: float64"
      ]
     },
     "execution_count": 21,
     "metadata": {},
     "output_type": "execute_result"
    }
   ],
   "source": [
    "values = ['Alice', 'Biggles', np.nan, 'Deidre'] # this is a python list\n",
    "nums = [1,2,3,4,5,np.nan]\n",
    "x = pd.Series(nums)\n",
    "y = pd.Series(values) # here me make a series from a list\n",
    "\n",
    "# we can replace values directly\n",
    "y[0] = None # Python has a None value to represent the absence of anything\n",
    "y.notnull()\n",
    "y.notna()\n",
    "y.isnull() # isnull lts us see missing values\n",
    "# what is the type of this series?\n",
    "y\n",
    "x # nan makes the type into a float"
   ]
  },
  {
   "cell_type": "markdown",
   "id": "eaccfc0c",
   "metadata": {},
   "source": [
    "### Filtering"
   ]
  },
  {
   "cell_type": "code",
   "execution_count": 28,
   "id": "84fd28ee",
   "metadata": {},
   "outputs": [
    {
     "data": {
      "text/plain": [
       "1    Biggles\n",
       "3     Deidre\n",
       "dtype: object"
      ]
     },
     "execution_count": 28,
     "metadata": {},
     "output_type": "execute_result"
    }
   ],
   "source": [
    "# common praxtice is to create a new object ot contain the results of an operation\n",
    "y1 = y.dropna() # this will drop all missing values: NaN and None\n",
    "y1\n",
    "# by default, the original data is unchanged. but we CAN use inplace=True\n",
    "y.dropna(inplace=True) # CAREFUL - the original data is lost\n",
    "y # the NaN and None members are IRRETRIEVABLY removed"
   ]
  },
  {
   "cell_type": "code",
   "execution_count": 81,
   "id": "21dfab22",
   "metadata": {},
   "outputs": [
    {
     "data": {
      "text/plain": [
       "0.2840846814946514"
      ]
     },
     "execution_count": 81,
     "metadata": {},
     "output_type": "execute_result"
    }
   ],
   "source": [
    "# Remember we can fill missing values\n",
    "# we start with a new DataFrame\n",
    "np.random.seed(0) # repeatable random values - predictable even across different platforms\n",
    "values = np.random.randn(10, 3)\n",
    "values  #[0,0]\n",
    "# make a DataFrame from these values\n",
    "df = pd.DataFrame(values)\n",
    "# inject some missing values\n",
    "df.iloc[:4,1] = np.nan # [start:stop-before]\n",
    "df.iloc[0:2,2] = np.nan\n",
    "df[1].sum()\n",
    "1.7045080889679083/6 # REMEMBER mean is calculated EXCLUSING NaN cells"
   ]
  },
  {
   "cell_type": "code",
   "execution_count": 86,
   "id": "2e6c623d",
   "metadata": {},
   "outputs": [
    {
     "data": {
      "text/html": [
       "<div>\n",
       "<style scoped>\n",
       "    .dataframe tbody tr th:only-of-type {\n",
       "        vertical-align: middle;\n",
       "    }\n",
       "\n",
       "    .dataframe tbody tr th {\n",
       "        vertical-align: top;\n",
       "    }\n",
       "\n",
       "    .dataframe thead th {\n",
       "        text-align: right;\n",
       "    }\n",
       "</style>\n",
       "<table border=\"1\" class=\"dataframe\">\n",
       "  <thead>\n",
       "    <tr style=\"text-align: right;\">\n",
       "      <th></th>\n",
       "      <th>0</th>\n",
       "      <th>1</th>\n",
       "      <th>2</th>\n",
       "    </tr>\n",
       "  </thead>\n",
       "  <tbody>\n",
       "    <tr>\n",
       "      <th>0</th>\n",
       "      <td>1.764052</td>\n",
       "      <td>0.500000</td>\n",
       "      <td>0.250000</td>\n",
       "    </tr>\n",
       "    <tr>\n",
       "      <th>1</th>\n",
       "      <td>2.240893</td>\n",
       "      <td>0.500000</td>\n",
       "      <td>0.250000</td>\n",
       "    </tr>\n",
       "    <tr>\n",
       "      <th>2</th>\n",
       "      <td>0.950088</td>\n",
       "      <td>0.500000</td>\n",
       "      <td>-0.103219</td>\n",
       "    </tr>\n",
       "    <tr>\n",
       "      <th>3</th>\n",
       "      <td>0.410599</td>\n",
       "      <td>0.500000</td>\n",
       "      <td>1.454274</td>\n",
       "    </tr>\n",
       "    <tr>\n",
       "      <th>4</th>\n",
       "      <td>0.761038</td>\n",
       "      <td>0.121675</td>\n",
       "      <td>0.443863</td>\n",
       "    </tr>\n",
       "    <tr>\n",
       "      <th>5</th>\n",
       "      <td>0.333674</td>\n",
       "      <td>1.494079</td>\n",
       "      <td>-0.205158</td>\n",
       "    </tr>\n",
       "    <tr>\n",
       "      <th>6</th>\n",
       "      <td>0.313068</td>\n",
       "      <td>-0.854096</td>\n",
       "      <td>-2.552990</td>\n",
       "    </tr>\n",
       "    <tr>\n",
       "      <th>7</th>\n",
       "      <td>0.653619</td>\n",
       "      <td>0.864436</td>\n",
       "      <td>-0.742165</td>\n",
       "    </tr>\n",
       "    <tr>\n",
       "      <th>8</th>\n",
       "      <td>2.269755</td>\n",
       "      <td>-1.454366</td>\n",
       "      <td>0.045759</td>\n",
       "    </tr>\n",
       "    <tr>\n",
       "      <th>9</th>\n",
       "      <td>-0.187184</td>\n",
       "      <td>1.532779</td>\n",
       "      <td>1.469359</td>\n",
       "    </tr>\n",
       "  </tbody>\n",
       "</table>\n",
       "</div>"
      ],
      "text/plain": [
       "          0         1         2\n",
       "0  1.764052  0.500000  0.250000\n",
       "1  2.240893  0.500000  0.250000\n",
       "2  0.950088  0.500000 -0.103219\n",
       "3  0.410599  0.500000  1.454274\n",
       "4  0.761038  0.121675  0.443863\n",
       "5  0.333674  1.494079 -0.205158\n",
       "6  0.313068 -0.854096 -2.552990\n",
       "7  0.653619  0.864436 -0.742165\n",
       "8  2.269755 -1.454366  0.045759\n",
       "9 -0.187184  1.532779  1.469359"
      ]
     },
     "execution_count": 86,
     "metadata": {},
     "output_type": "execute_result"
    }
   ],
   "source": [
    "# now we can see ways to deal with the missing values\n",
    "cleaned = df.fillna(0)\n",
    "# by default axis=0 (i.e. work downwards)\n",
    "# for reference: axis=0 means work with columns, axis=1 meas work with rows\n",
    "cleaned = df.fillna(method='ffill', axis=1, limit=1) # use previous values to fill the next values\n",
    "cleaned\n",
    "df.dropna() # drops the entire row if it contains NaN\n",
    "df.dropna(thresh=2) # only drop a row if it has TWO NaN\n",
    "df.fillna( df.mean() ) # replace NaN with the mean FOR THAT COLUMN\n",
    "# alternatively we can replace with actual values\n",
    "df.fillna( {1:0.5, 2:0.25} ) # remember we are NOT using inplace=True\n"
   ]
  },
  {
   "cell_type": "code",
   "execution_count": 91,
   "id": "b9bdd4cc",
   "metadata": {},
   "outputs": [
    {
     "data": {
      "text/plain": [
       "0         NaN\n",
       "4    0.121675\n",
       "5    1.494079\n",
       "6   -0.854096\n",
       "7    0.864436\n",
       "8   -1.454366\n",
       "9    1.532779\n",
       "Name: 1, dtype: float64"
      ]
     },
     "execution_count": 91,
     "metadata": {},
     "output_type": "execute_result"
    }
   ],
   "source": [
    "df[2].duplicated()\n",
    "df[1].drop_duplicates() # remember - this does NOT alter the original dataframe"
   ]
  },
  {
   "cell_type": "code",
   "execution_count": 99,
   "id": "efa0987f",
   "metadata": {},
   "outputs": [
    {
     "data": {
      "text/html": [
       "<div>\n",
       "<style scoped>\n",
       "    .dataframe tbody tr th:only-of-type {\n",
       "        vertical-align: middle;\n",
       "    }\n",
       "\n",
       "    .dataframe tbody tr th {\n",
       "        vertical-align: top;\n",
       "    }\n",
       "\n",
       "    .dataframe thead th {\n",
       "        text-align: right;\n",
       "    }\n",
       "</style>\n",
       "<table border=\"1\" class=\"dataframe\">\n",
       "  <thead>\n",
       "    <tr style=\"text-align: right;\">\n",
       "      <th></th>\n",
       "      <th>0</th>\n",
       "      <th>1</th>\n",
       "      <th>2</th>\n",
       "    </tr>\n",
       "  </thead>\n",
       "  <tbody>\n",
       "    <tr>\n",
       "      <th>0</th>\n",
       "      <td>10.000000</td>\n",
       "      <td>NaN</td>\n",
       "      <td>NaN</td>\n",
       "    </tr>\n",
       "    <tr>\n",
       "      <th>1</th>\n",
       "      <td>2.240893</td>\n",
       "      <td>NaN</td>\n",
       "      <td>NaN</td>\n",
       "    </tr>\n",
       "    <tr>\n",
       "      <th>2</th>\n",
       "      <td>0.950088</td>\n",
       "      <td>NaN</td>\n",
       "      <td>-0.103219</td>\n",
       "    </tr>\n",
       "    <tr>\n",
       "      <th>3</th>\n",
       "      <td>0.410599</td>\n",
       "      <td>NaN</td>\n",
       "      <td>1.454274</td>\n",
       "    </tr>\n",
       "    <tr>\n",
       "      <th>4</th>\n",
       "      <td>0.761038</td>\n",
       "      <td>0.121675</td>\n",
       "      <td>0.443863</td>\n",
       "    </tr>\n",
       "    <tr>\n",
       "      <th>5</th>\n",
       "      <td>0.333674</td>\n",
       "      <td>1.494079</td>\n",
       "      <td>-0.205158</td>\n",
       "    </tr>\n",
       "    <tr>\n",
       "      <th>6</th>\n",
       "      <td>0.313068</td>\n",
       "      <td>-0.854096</td>\n",
       "      <td>-2.552990</td>\n",
       "    </tr>\n",
       "    <tr>\n",
       "      <th>7</th>\n",
       "      <td>0.653619</td>\n",
       "      <td>0.864436</td>\n",
       "      <td>-0.742165</td>\n",
       "    </tr>\n",
       "    <tr>\n",
       "      <th>8</th>\n",
       "      <td>2.269755</td>\n",
       "      <td>-1.454366</td>\n",
       "      <td>0.045759</td>\n",
       "    </tr>\n",
       "    <tr>\n",
       "      <th>9</th>\n",
       "      <td>-0.187184</td>\n",
       "      <td>1.532779</td>\n",
       "      <td>1.469359</td>\n",
       "    </tr>\n",
       "  </tbody>\n",
       "</table>\n",
       "</div>"
      ],
      "text/plain": [
       "           0         1         2\n",
       "0  10.000000       NaN       NaN\n",
       "1   2.240893       NaN       NaN\n",
       "2   0.950088       NaN -0.103219\n",
       "3   0.410599       NaN  1.454274\n",
       "4   0.761038  0.121675  0.443863\n",
       "5   0.333674  1.494079 -0.205158\n",
       "6   0.313068 -0.854096 -2.552990\n",
       "7   0.653619  0.864436 -0.742165\n",
       "8   2.269755 -1.454366  0.045759\n",
       "9  -0.187184  1.532779  1.469359"
      ]
     },
     "execution_count": 99,
     "metadata": {},
     "output_type": "execute_result"
    }
   ],
   "source": [
    "# replacing values\n",
    "df.iloc[0,0] = 9.99 # specifically refer to a value\n",
    "# we can search the ENTIRE DataFrame for EVERY matching value\n",
    "df.replace(9.99, 10, inplace=True) # find ALL matching values and replace them\n",
    "df"
   ]
  }
 ],
 "metadata": {
  "kernelspec": {
   "display_name": "Python 3 (ipykernel)",
   "language": "python",
   "name": "python3"
  },
  "language_info": {
   "codemirror_mode": {
    "name": "ipython",
    "version": 3
   },
   "file_extension": ".py",
   "mimetype": "text/x-python",
   "name": "python",
   "nbconvert_exporter": "python",
   "pygments_lexer": "ipython3",
   "version": "3.9.12"
  }
 },
 "nbformat": 4,
 "nbformat_minor": 5
}
