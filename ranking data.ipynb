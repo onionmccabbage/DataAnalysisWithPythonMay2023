{
 "cells": [
  {
   "cell_type": "code",
   "execution_count": 1,
   "id": "97764b52",
   "metadata": {},
   "outputs": [],
   "source": [
    "import numpy as np\n",
    "import pandas as pd\n",
    "import matplotlib.pyplot as plt"
   ]
  },
  {
   "cell_type": "code",
   "execution_count": 9,
   "id": "528e0208",
   "metadata": {},
   "outputs": [
    {
     "data": {
      "text/plain": [
       "0      8.0\n",
       "1      8.0\n",
       "2      8.0\n",
       "3      4.0\n",
       "4      4.0\n",
       "5      2.0\n",
       "6      8.0\n",
       "7      1.0\n",
       "8     11.0\n",
       "9      8.0\n",
       "10     4.0\n",
       "dtype: float64"
      ]
     },
     "execution_count": 9,
     "metadata": {},
     "output_type": "execute_result"
    }
   ],
   "source": [
    "## we can use 'ranking'\n",
    "s = pd.Series([7, 7, 7, 4, 4, 3, 7, 2, 9, 7, 4])\n",
    "s # a sries with repeated values\n",
    "s.rank() # ranked by value and popularity"
   ]
  },
  {
   "cell_type": "code",
   "execution_count": 11,
   "id": "6d8fa6e5",
   "metadata": {},
   "outputs": [
    {
     "data": {
      "text/plain": [
       "0      6.0\n",
       "1      7.0\n",
       "2      8.0\n",
       "3      3.0\n",
       "4      4.0\n",
       "5      2.0\n",
       "6      9.0\n",
       "7      1.0\n",
       "8     11.0\n",
       "9     10.0\n",
       "10     5.0\n",
       "dtype: float64"
      ]
     },
     "execution_count": 11,
     "metadata": {},
     "output_type": "execute_result"
    }
   ],
   "source": [
    "s.rank(method='first') # fist occurences"
   ]
  },
  {
   "cell_type": "code",
   "execution_count": 14,
   "id": "61f37102",
   "metadata": {},
   "outputs": [
    {
     "data": {
      "text/plain": [
       "0      6.0\n",
       "1      6.0\n",
       "2      6.0\n",
       "3      9.0\n",
       "4      9.0\n",
       "5     10.0\n",
       "6      6.0\n",
       "7     11.0\n",
       "8      1.0\n",
       "9      6.0\n",
       "10     9.0\n",
       "dtype: float64"
      ]
     },
     "execution_count": 14,
     "metadata": {},
     "output_type": "execute_result"
    }
   ],
   "source": [
    "s.rank(ascending=False, method='max')"
   ]
  },
  {
   "cell_type": "code",
   "execution_count": 16,
   "id": "490088a4",
   "metadata": {},
   "outputs": [],
   "source": [
    "# s.rank(axis=1) # work ACROSS rows (pointless for a one-columns series)"
   ]
  }
 ],
 "metadata": {
  "kernelspec": {
   "display_name": "Python 3 (ipykernel)",
   "language": "python",
   "name": "python3"
  },
  "language_info": {
   "codemirror_mode": {
    "name": "ipython",
    "version": 3
   },
   "file_extension": ".py",
   "mimetype": "text/x-python",
   "name": "python",
   "nbconvert_exporter": "python",
   "pygments_lexer": "ipython3",
   "version": "3.9.12"
  }
 },
 "nbformat": 4,
 "nbformat_minor": 5
}
