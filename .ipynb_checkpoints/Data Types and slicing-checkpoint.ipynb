{
 "cells": [
  {
   "cell_type": "code",
   "execution_count": 1,
   "id": "cb875acb",
   "metadata": {
    "collapsed": true
   },
   "outputs": [],
   "source": [
    "# We write our code in these cells\n",
    "# Anaconda provides: Python Jupyter (the browser-based notebooks)\n",
    "# also libraries for Numpy, Pandas, Matplotlib etc."
   ]
  },
  {
   "cell_type": "code",
   "execution_count": 2,
   "id": "e72ccb7f",
   "metadata": {},
   "outputs": [
    {
     "data": {
      "text/plain": [
       "3"
      ]
     },
     "execution_count": 2,
     "metadata": {},
     "output_type": "execute_result"
    }
   ],
   "source": [
    "# basic Python\n",
    "a = 1 #\n",
    "b = 2 # these are identifiers or variables or labels for data\n",
    "a+b # + - * /"
   ]
  },
  {
   "cell_type": "code",
   "execution_count": 3,
   "id": "206441ad",
   "metadata": {},
   "outputs": [],
   "source": [
    "# there are simple data types in Python\n",
    "c = 42 # this is an integer\n",
    "d = 8.6 # this is a floating point number\n",
    "f = True # or False - these are Boolean\n",
    "n = None # turns out to be handy way to recognize the presence of nothing"
   ]
  },
  {
   "cell_type": "code",
   "execution_count": 52,
   "id": "9a64defc",
   "metadata": {},
   "outputs": [
    {
     "data": {
      "text/plain": [
       "'tey eeffoc ti si'"
      ]
     },
     "execution_count": 52,
     "metadata": {},
     "output_type": "execute_result"
    }
   ],
   "source": [
    "# there are also complex data types: collections of several members\n",
    "s = 'is it coffee yet' # a string: we can use single or double quotes\n",
    "s[6] # always count from zero\n",
    "# we can take a slice of a collection\n",
    "s[3:9] # start at the member 3 and stop before member 9\n",
    "s[0:17:2] # start : stop-before : step\n",
    "s[::-1] # slice that steps backwards"
   ]
  },
  {
   "cell_type": "code",
   "execution_count": 12,
   "id": "83f222e6",
   "metadata": {},
   "outputs": [
    {
     "data": {
      "text/plain": [
       "[5, 99, 456, 0]"
      ]
     },
     "execution_count": 12,
     "metadata": {},
     "output_type": "execute_result"
    }
   ],
   "source": [
    "# as well as strings of characters Python offers a LIST collection\n",
    "l = [5, 42, 99, 3, 456, -4, 0]\n",
    "l[0:7:2] # the zeroth member is 5"
   ]
  },
  {
   "cell_type": "code",
   "execution_count": 42,
   "id": "215758cb",
   "metadata": {},
   "outputs": [
    {
     "data": {
      "text/plain": [
       "array([[[8, 1, 5, 9, 8],\n",
       "        [9, 4, 3, 0, 3],\n",
       "        [5, 0, 2, 3, 8],\n",
       "        [1, 3, 3, 3, 7]],\n",
       "\n",
       "       [[0, 1, 9, 9, 0],\n",
       "        [4, 7, 3, 2, 7],\n",
       "        [2, 0, 0, 4, 5],\n",
       "        [5, 6, 8, 4, 1]],\n",
       "\n",
       "       [[4, 9, 8, 1, 1],\n",
       "        [7, 9, 9, 3, 6],\n",
       "        [7, 2, 0, 3, 5],\n",
       "        [9, 4, 4, 6, 4]]])"
      ]
     },
     "execution_count": 42,
     "metadata": {},
     "output_type": "execute_result"
    }
   ],
   "source": [
    "# Python data structures are great\n",
    "# but for large data, we need more efficient structures\n",
    "import numpy as np # Numpy is numerci python - really good for numerical analysis\n",
    "# for this exercise we will use random numbers\n",
    "np.random.seed(0) # seed(0) gives us reproducible random numbers\n",
    "x1 = np.random.randint(10, size=6)\n",
    "x1 # a one-dimendional array\n",
    "x2 = np.random.randint(10, size=(3,4))\n",
    "x2 # a two-dimensional array\n",
    "x3 = np.random.randint(10, size=(3, 4, 5))\n",
    "x3 # a three-dimensional array"
   ]
  },
  {
   "cell_type": "code",
   "execution_count": 47,
   "id": "0691906e",
   "metadata": {},
   "outputs": [
    {
     "data": {
      "text/plain": [
       "array([3, 3, 7])"
      ]
     },
     "execution_count": 47,
     "metadata": {},
     "output_type": "execute_result"
    }
   ],
   "source": [
    "# remember x1 is 1-D and x2 is 2-D\n",
    "x1[2:5] # start:stop-before (:step)"
   ]
  },
  {
   "cell_type": "code",
   "execution_count": 54,
   "id": "b9b87e76",
   "metadata": {
    "scrolled": true
   },
   "outputs": [
    {
     "data": {
      "text/plain": [
       "array([9, 7, 3, 3, 0, 5])"
      ]
     },
     "execution_count": 54,
     "metadata": {},
     "output_type": "execute_result"
    }
   ],
   "source": [
    "# in any collection, we can count from the other end\n",
    "x1[-2] # count back 2 from the end\n",
    "x1[::-1] # default start : default stop-before : step backwards"
   ]
  },
  {
   "cell_type": "code",
   "execution_count": 55,
   "id": "63b7d01c",
   "metadata": {},
   "outputs": [
    {
     "data": {
      "text/plain": [
       "array([[3, 5, 2, 4],\n",
       "       [7, 6, 8, 8],\n",
       "       [1, 6, 7, 7]])"
      ]
     },
     "execution_count": 55,
     "metadata": {},
     "output_type": "execute_result"
    }
   ],
   "source": [
    "# REMEMBER - all collection (and all slices) start at ZERO\n",
    "# ... and stop-before a member\n",
    "x2"
   ]
  },
  {
   "cell_type": "code",
   "execution_count": 64,
   "id": "e3f5cb12",
   "metadata": {},
   "outputs": [
    {
     "data": {
      "text/plain": [
       "array([[7, 6, 8, 8],\n",
       "       [1, 6, 7, 7]])"
      ]
     },
     "execution_count": 64,
     "metadata": {},
     "output_type": "execute_result"
    }
   ],
   "source": [
    "# we can slice 2-D arrays\n",
    "x2[0, 3] # the member at position 0, 0\n",
    "# a subset of our array\n",
    "x2[1:3]"
   ]
  },
  {
   "cell_type": "code",
   "execution_count": 65,
   "id": "2e3bd00e",
   "metadata": {},
   "outputs": [
    {
     "data": {
      "text/plain": [
       "array([5, 3, 7])"
      ]
     },
     "execution_count": 65,
     "metadata": {},
     "output_type": "execute_result"
    }
   ],
   "source": [
    "x1[::2]"
   ]
  },
  {
   "cell_type": "code",
   "execution_count": 69,
   "id": "9df815ff",
   "metadata": {},
   "outputs": [
    {
     "data": {
      "text/plain": [
       "array([ 7, 20,  2])"
      ]
     },
     "execution_count": 69,
     "metadata": {},
     "output_type": "execute_result"
    }
   ],
   "source": [
    "# maths with arrays\n",
    "# the mathematical operator acts on each member of the array\n",
    "x = np.array([1, 5, 2]) # this is an array made from a LIST\n",
    "y = np.array([7, 4, 1])\n",
    "x*y"
   ]
  },
  {
   "cell_type": "code",
   "execution_count": 70,
   "id": "bf59aad4",
   "metadata": {},
   "outputs": [
    {
     "data": {
      "text/plain": [
       "29"
      ]
     },
     "execution_count": 70,
     "metadata": {},
     "output_type": "execute_result"
    }
   ],
   "source": [
    "# if you need it, you can calculate the dot product\n",
    "np.dot(x, y) # only matters if this is important to you"
   ]
  },
  {
   "cell_type": "code",
   "execution_count": null,
   "id": "e9435560",
   "metadata": {},
   "outputs": [],
   "source": []
  }
 ],
 "metadata": {
  "kernelspec": {
   "display_name": "Python 3 (ipykernel)",
   "language": "python",
   "name": "python3"
  },
  "language_info": {
   "codemirror_mode": {
    "name": "ipython",
    "version": 3
   },
   "file_extension": ".py",
   "mimetype": "text/x-python",
   "name": "python",
   "nbconvert_exporter": "python",
   "pygments_lexer": "ipython3",
   "version": "3.9.12"
  }
 },
 "nbformat": 4,
 "nbformat_minor": 5
}
