{
 "cells": [
  {
   "cell_type": "markdown",
   "id": "ccfecee1",
   "metadata": {},
   "source": [
    "### Working with time and Date"
   ]
  },
  {
   "cell_type": "code",
   "execution_count": 2,
   "id": "e1e4cb78",
   "metadata": {},
   "outputs": [],
   "source": [
    "import numpy as np\n",
    "import pandas as pd"
   ]
  },
  {
   "cell_type": "code",
   "execution_count": 3,
   "id": "26e2c049",
   "metadata": {},
   "outputs": [],
   "source": [
    "import time\n",
    "import timeit\n",
    "import datetime"
   ]
  },
  {
   "cell_type": "code",
   "execution_count": 10,
   "id": "5d61752a",
   "metadata": {},
   "outputs": [
    {
     "data": {
      "text/plain": [
       "3.0146431922912598"
      ]
     },
     "execution_count": 10,
     "metadata": {},
     "output_type": "execute_result"
    }
   ],
   "source": [
    "# time is useful for measuring time\n",
    "start = time.time()\n",
    "time.sleep(3) # wait a bit\n",
    "end = time.time() # careful - this time includes everythnig your system was up to\n",
    "end-start"
   ]
  },
  {
   "cell_type": "code",
   "execution_count": 17,
   "id": "ec102b1a",
   "metadata": {},
   "outputs": [
    {
     "data": {
      "text/plain": [
       "3.508037399999978"
      ]
     },
     "execution_count": 17,
     "metadata": {},
     "output_type": "execute_result"
    }
   ],
   "source": [
    "# timeit is better (more accurate)\n",
    "start = timeit.default_timer()\n",
    "time.sleep(3.5)\n",
    "end = timeit.default_timer() # timeit is able ot ignore non-python stuff\n",
    "end-start"
   ]
  },
  {
   "cell_type": "code",
   "execution_count": 30,
   "id": "fcfc86cc",
   "metadata": {},
   "outputs": [
    {
     "data": {
      "text/plain": [
       "datetime.datetime(2023, 6, 1, 15, 51, 57, 988479)"
      ]
     },
     "execution_count": 30,
     "metadata": {},
     "output_type": "execute_result"
    }
   ],
   "source": [
    "# we can work with date-time objects\n",
    "now = datetime.datetime.now()\n",
    "now # the exact momentg according to this computer"
   ]
  },
  {
   "cell_type": "code",
   "execution_count": 36,
   "id": "2b9598a9",
   "metadata": {},
   "outputs": [
    {
     "data": {
      "text/plain": [
       "3911"
      ]
     },
     "execution_count": 36,
     "metadata": {},
     "output_type": "execute_result"
    }
   ],
   "source": [
    "# calculate how long since...\n",
    "then = datetime.datetime(2012, 9, 15) # a date in history\n",
    "delta = now-then\n",
    "delta.days # or delta.seconds"
   ]
  },
  {
   "cell_type": "code",
   "execution_count": 38,
   "id": "f7162239",
   "metadata": {},
   "outputs": [
    {
     "data": {
      "text/plain": [
       "datetime.datetime(2023, 6, 13, 15, 51, 57, 988479)"
      ]
     },
     "execution_count": 38,
     "metadata": {},
     "output_type": "execute_result"
    }
   ],
   "source": [
    "# we can create and work with time-date deltas\n",
    "days12 = datetime.timedelta(12)\n",
    "now+days12 # twelve days hence"
   ]
  },
  {
   "cell_type": "code",
   "execution_count": 42,
   "id": "e0b2997b",
   "metadata": {},
   "outputs": [
    {
     "data": {
      "text/plain": [
       "'2023-06-01 Thursday June'"
      ]
     },
     "execution_count": 42,
     "metadata": {},
     "output_type": "execute_result"
    }
   ],
   "source": [
    "now.strftime('%Y-%m-%d %A %B') # 'A' for dayname 'B' for monthname"
   ]
  },
  {
   "cell_type": "markdown",
   "id": "8fb2c747",
   "metadata": {},
   "source": [
    "### Python Data Structures"
   ]
  },
  {
   "cell_type": "code",
   "execution_count": 47,
   "id": "13184e0b",
   "metadata": {},
   "outputs": [],
   "source": [
    "# we have met the common stuctures of Python\n",
    "# simples\n",
    "a = 3795446923740 # int\n",
    "b = 42.3567542758 # float\n",
    "c = True # boolean\n",
    "d = None # handy - represent the absence of any type\n",
    "# complex Python structures\n",
    "e = [3,2,1,6,43,7] # a list - indexed from zero\n",
    "f = {'name':'Timnit', 'age':40} # dictionary has NO numeric index\n",
    "\n",
    "# nb numpy has array and arange\n",
    "#   pandas has Series and DataFrame (these are MUCH faster than Python native stuctures)\n"
   ]
  },
  {
   "cell_type": "markdown",
   "id": "ecbfecfc",
   "metadata": {},
   "source": [
    "#### Other Python Structures"
   ]
  },
  {
   "cell_type": "code",
   "execution_count": 51,
   "id": "f522a810",
   "metadata": {},
   "outputs": [
    {
     "data": {
      "text/plain": [
       "['t', 2, 1, 6, 43, 7]"
      ]
     },
     "execution_count": 51,
     "metadata": {},
     "output_type": "execute_result"
    }
   ],
   "source": [
    "# a 'set' contains only unique values\n",
    "s = {5,3,7,4,7,5,3,3,6,7,8,43,5,6,8,5,43,3,6,7,8}\n",
    "s\n",
    "# a tuple is an indexed collection of immutable values\n",
    "t = (5,6,9,4,2,6,9,5,2,79,5,2,5,8) # tuple\n",
    "t\n",
    "e # a list is an indexed collection of MUTABLE values\n",
    "e[0] = 't'\n",
    "e\n",
    "# t[0] = 'oops'"
   ]
  },
  {
   "cell_type": "code",
   "execution_count": 56,
   "id": "4c098cb4",
   "metadata": {},
   "outputs": [
    {
     "data": {
      "text/plain": [
       "5.0"
      ]
     },
     "execution_count": 56,
     "metadata": {},
     "output_type": "execute_result"
    }
   ],
   "source": [
    "# object oriented Python\n",
    "# if none of the built-in structures suit your purpose, then make your own\n",
    "# suppose we need to represent a point in 2-d space\n",
    "class Point:\n",
    "    def __init__(self, x, y):\n",
    "        self.x = x\n",
    "        self.y = y\n",
    "    def h(self):\n",
    "        hypot = (self.x*self.x + self.y*self.y)**0.5 # **0.5 will find the square root\n",
    "        return hypot\n",
    "        \n",
    "p1 = Point(3,2)\n",
    "p2 = Point(3,4)\n",
    "p2.h()"
   ]
  }
 ],
 "metadata": {
  "kernelspec": {
   "display_name": "Python 3 (ipykernel)",
   "language": "python",
   "name": "python3"
  },
  "language_info": {
   "codemirror_mode": {
    "name": "ipython",
    "version": 3
   },
   "file_extension": ".py",
   "mimetype": "text/x-python",
   "name": "python",
   "nbconvert_exporter": "python",
   "pygments_lexer": "ipython3",
   "version": "3.9.12"
  }
 },
 "nbformat": 4,
 "nbformat_minor": 5
}
