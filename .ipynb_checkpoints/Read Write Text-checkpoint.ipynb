{
 "cells": [
  {
   "cell_type": "markdown",
   "id": "6177cbf4",
   "metadata": {},
   "source": [
    "## Working with Text Files (FIFO)"
   ]
  },
  {
   "cell_type": "code",
   "execution_count": 19,
   "id": "453ef3c1",
   "metadata": {},
   "outputs": [],
   "source": [
    "# it is really easy to write to a text file\n",
    "words = 'time for coffee!!!'\n",
    "# we need a file access object\n",
    "fout = open('myfile.txt', 'w') # 'a' to append. 'w' to (over)write\n",
    "print(words, file=fout)\n",
    "fout.close() # tidy up!!\n"
   ]
  },
  {
   "cell_type": "code",
   "execution_count": null,
   "id": "272b1ca6",
   "metadata": {},
   "outputs": [],
   "source": []
  },
  {
   "cell_type": "code",
   "execution_count": null,
   "id": "fc0cc79c",
   "metadata": {},
   "outputs": [],
   "source": []
  },
  {
   "cell_type": "code",
   "execution_count": null,
   "id": "0b0181f9",
   "metadata": {},
   "outputs": [],
   "source": []
  },
  {
   "cell_type": "code",
   "execution_count": null,
   "id": "a3210213",
   "metadata": {},
   "outputs": [],
   "source": []
  },
  {
   "cell_type": "code",
   "execution_count": null,
   "id": "2a237f9d",
   "metadata": {},
   "outputs": [],
   "source": []
  },
  {
   "cell_type": "code",
   "execution_count": null,
   "id": "5ae00739",
   "metadata": {},
   "outputs": [],
   "source": []
  }
 ],
 "metadata": {
  "kernelspec": {
   "display_name": "Python 3 (ipykernel)",
   "language": "python",
   "name": "python3"
  },
  "language_info": {
   "codemirror_mode": {
    "name": "ipython",
    "version": 3
   },
   "file_extension": ".py",
   "mimetype": "text/x-python",
   "name": "python",
   "nbconvert_exporter": "python",
   "pygments_lexer": "ipython3",
   "version": "3.9.12"
  }
 },
 "nbformat": 4,
 "nbformat_minor": 5
}
