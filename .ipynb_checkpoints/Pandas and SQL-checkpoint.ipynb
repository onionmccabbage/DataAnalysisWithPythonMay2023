{
 "cells": [
  {
   "cell_type": "markdown",
   "id": "f0a0aef5",
   "metadata": {},
   "source": [
    "Data Analysis with Pandas and SQL"
   ]
  },
  {
   "cell_type": "code",
   "execution_count": 1,
   "id": "a16cfc0b",
   "metadata": {},
   "outputs": [],
   "source": [
    "import numpy as np\n",
    "import pandas as pd"
   ]
  },
  {
   "cell_type": "code",
   "execution_count": 2,
   "id": "bd70d69c",
   "metadata": {},
   "outputs": [],
   "source": [
    "# we can manually install tools\n",
    "# outside of anaconda we write pip install pandasql\n",
    "# !conda install pandasql --yes"
   ]
  },
  {
   "cell_type": "code",
   "execution_count": 3,
   "id": "43cfa0b2",
   "metadata": {},
   "outputs": [],
   "source": [
    "# we import the sql tools like this\n",
    "from pandasql import sqldf"
   ]
  },
  {
   "cell_type": "code",
   "execution_count": 4,
   "id": "17a729b8",
   "metadata": {},
   "outputs": [],
   "source": [
    "# we need some data\n",
    "students= {\n",
    "    'Students':[\"Sira\",\"Ibrahim\",\"Moussa\",\"Mamadou\",\"Nabintou\"],\n",
    "    'Gender':['Female','Male','Fluid', \"Male\", \"Female\"],\n",
    "    'Age':[18, 27, 19, 22, 21],\n",
    "    'Email': [\"sira@info.com\", \"ib@info.com\", \"mouss@info.com\", \n",
    "             \"mam@info.com\", \"nab@info.com\"]\n",
    "          }\n",
    "teaching_assistant= {\n",
    "    'Teacher':[\"Ibrahim\",\"Nabintou\",\"Mamadou\",\"Fatim\",\"Aziz\"],\n",
    "    'Email':['ib@info.com','nab@info.com','mam@info.com', \n",
    "             \"fat@info.com\", \"aziz@info.com\"],\n",
    "    'Degree':[\"MSc. in Data Science\", \"BSc. in Statistics\", \n",
    "              \"BSc. Comp Sci\", \"MSc. Architecture\", \"BSc. in Accounting\"],\n",
    "    'Department': [\"Business\", \"Statistics\", \"Comp Sci\", \n",
    "             \"Engineering\", \"Business\"]\n",
    "          }"
   ]
  },
  {
   "cell_type": "code",
   "execution_count": 6,
   "id": "e9da5a3b",
   "metadata": {},
   "outputs": [
    {
     "data": {
      "text/html": [
       "<div>\n",
       "<style scoped>\n",
       "    .dataframe tbody tr th:only-of-type {\n",
       "        vertical-align: middle;\n",
       "    }\n",
       "\n",
       "    .dataframe tbody tr th {\n",
       "        vertical-align: top;\n",
       "    }\n",
       "\n",
       "    .dataframe thead th {\n",
       "        text-align: right;\n",
       "    }\n",
       "</style>\n",
       "<table border=\"1\" class=\"dataframe\">\n",
       "  <thead>\n",
       "    <tr style=\"text-align: right;\">\n",
       "      <th></th>\n",
       "      <th>Students</th>\n",
       "      <th>Gender</th>\n",
       "      <th>Age</th>\n",
       "      <th>Email</th>\n",
       "    </tr>\n",
       "  </thead>\n",
       "  <tbody>\n",
       "    <tr>\n",
       "      <th>0</th>\n",
       "      <td>Sira</td>\n",
       "      <td>Female</td>\n",
       "      <td>18</td>\n",
       "      <td>sira@info.com</td>\n",
       "    </tr>\n",
       "    <tr>\n",
       "      <th>1</th>\n",
       "      <td>Ibrahim</td>\n",
       "      <td>Male</td>\n",
       "      <td>27</td>\n",
       "      <td>ib@info.com</td>\n",
       "    </tr>\n",
       "    <tr>\n",
       "      <th>2</th>\n",
       "      <td>Moussa</td>\n",
       "      <td>Fluid</td>\n",
       "      <td>19</td>\n",
       "      <td>mouss@info.com</td>\n",
       "    </tr>\n",
       "    <tr>\n",
       "      <th>3</th>\n",
       "      <td>Mamadou</td>\n",
       "      <td>Male</td>\n",
       "      <td>22</td>\n",
       "      <td>mam@info.com</td>\n",
       "    </tr>\n",
       "    <tr>\n",
       "      <th>4</th>\n",
       "      <td>Nabintou</td>\n",
       "      <td>Female</td>\n",
       "      <td>21</td>\n",
       "      <td>nab@info.com</td>\n",
       "    </tr>\n",
       "  </tbody>\n",
       "</table>\n",
       "</div>"
      ],
      "text/plain": [
       "   Students  Gender  Age           Email\n",
       "0      Sira  Female   18   sira@info.com\n",
       "1   Ibrahim    Male   27     ib@info.com\n",
       "2    Moussa   Fluid   19  mouss@info.com\n",
       "3   Mamadou    Male   22    mam@info.com\n",
       "4  Nabintou  Female   21    nab@info.com"
      ]
     },
     "execution_count": 6,
     "metadata": {},
     "output_type": "execute_result"
    }
   ],
   "source": [
    "# make them into DataFrames\n",
    "students_df = pd.DataFrame(students)\n",
    "students_df"
   ]
  },
  {
   "cell_type": "code",
   "execution_count": 7,
   "id": "5ccf8761",
   "metadata": {},
   "outputs": [
    {
     "data": {
      "text/html": [
       "<div>\n",
       "<style scoped>\n",
       "    .dataframe tbody tr th:only-of-type {\n",
       "        vertical-align: middle;\n",
       "    }\n",
       "\n",
       "    .dataframe tbody tr th {\n",
       "        vertical-align: top;\n",
       "    }\n",
       "\n",
       "    .dataframe thead th {\n",
       "        text-align: right;\n",
       "    }\n",
       "</style>\n",
       "<table border=\"1\" class=\"dataframe\">\n",
       "  <thead>\n",
       "    <tr style=\"text-align: right;\">\n",
       "      <th></th>\n",
       "      <th>Teacher</th>\n",
       "      <th>Email</th>\n",
       "      <th>Degree</th>\n",
       "      <th>Department</th>\n",
       "    </tr>\n",
       "  </thead>\n",
       "  <tbody>\n",
       "    <tr>\n",
       "      <th>0</th>\n",
       "      <td>Ibrahim</td>\n",
       "      <td>ib@info.com</td>\n",
       "      <td>MSc. in Data Science</td>\n",
       "      <td>Business</td>\n",
       "    </tr>\n",
       "    <tr>\n",
       "      <th>1</th>\n",
       "      <td>Nabintou</td>\n",
       "      <td>nab@info.com</td>\n",
       "      <td>BSc. in Statistics</td>\n",
       "      <td>Statistics</td>\n",
       "    </tr>\n",
       "    <tr>\n",
       "      <th>2</th>\n",
       "      <td>Mamadou</td>\n",
       "      <td>mam@info.com</td>\n",
       "      <td>BSc. Comp Sci</td>\n",
       "      <td>Comp Sci</td>\n",
       "    </tr>\n",
       "    <tr>\n",
       "      <th>3</th>\n",
       "      <td>Fatim</td>\n",
       "      <td>fat@info.com</td>\n",
       "      <td>MSc. Architecture</td>\n",
       "      <td>Engineering</td>\n",
       "    </tr>\n",
       "    <tr>\n",
       "      <th>4</th>\n",
       "      <td>Aziz</td>\n",
       "      <td>aziz@info.com</td>\n",
       "      <td>BSc. in Accounting</td>\n",
       "      <td>Business</td>\n",
       "    </tr>\n",
       "  </tbody>\n",
       "</table>\n",
       "</div>"
      ],
      "text/plain": [
       "    Teacher          Email                Degree   Department\n",
       "0   Ibrahim    ib@info.com  MSc. in Data Science     Business\n",
       "1  Nabintou   nab@info.com    BSc. in Statistics   Statistics\n",
       "2   Mamadou   mam@info.com         BSc. Comp Sci     Comp Sci\n",
       "3     Fatim   fat@info.com     MSc. Architecture  Engineering\n",
       "4      Aziz  aziz@info.com    BSc. in Accounting     Business"
      ]
     },
     "execution_count": 7,
     "metadata": {},
     "output_type": "execute_result"
    }
   ],
   "source": [
    "teaching_assistant_df = pd.DataFrame(teaching_assistant)\n",
    "teaching_assistant_df"
   ]
  },
  {
   "cell_type": "markdown",
   "id": "4b754491",
   "metadata": {},
   "source": [
    "We will select data, filter data, aggregate and join data using SQL on DataFrames"
   ]
  },
  {
   "cell_type": "code",
   "execution_count": 23,
   "id": "d169c533",
   "metadata": {},
   "outputs": [
    {
     "name": "stdout",
     "output_type": "stream",
     "text": [
      "<class 'pandas.core.frame.DataFrame'>\n",
      "RangeIndex: 5 entries, 0 to 4\n",
      "Data columns (total 4 columns):\n",
      " #   Column    Non-Null Count  Dtype \n",
      "---  ------    --------------  ----- \n",
      " 0   Students  5 non-null      object\n",
      " 1   Gender    5 non-null      object\n",
      " 2   Age       5 non-null      int64 \n",
      " 3   Email     5 non-null      object\n",
      "dtypes: int64(1), object(3)\n",
      "memory usage: 288.0+ bytes\n"
     ]
    }
   ],
   "source": [
    "# CAREFUL - avoid keywords such as 'all'\n",
    "all_s = sqldf(\"SELECT * FROM students_df\") # * means all columns\n",
    "# all_s = sqldf(\"SELECT Age, Email FROM students_df\") # we can specify which clumns\n",
    "all_s.info()"
   ]
  },
  {
   "cell_type": "code",
   "execution_count": 21,
   "id": "977e9fc1",
   "metadata": {},
   "outputs": [
    {
     "data": {
      "text/html": [
       "<div>\n",
       "<style scoped>\n",
       "    .dataframe tbody tr th:only-of-type {\n",
       "        vertical-align: middle;\n",
       "    }\n",
       "\n",
       "    .dataframe tbody tr th {\n",
       "        vertical-align: top;\n",
       "    }\n",
       "\n",
       "    .dataframe thead th {\n",
       "        text-align: right;\n",
       "    }\n",
       "</style>\n",
       "<table border=\"1\" class=\"dataframe\">\n",
       "  <thead>\n",
       "    <tr style=\"text-align: right;\">\n",
       "      <th></th>\n",
       "      <th>Students</th>\n",
       "      <th>Email</th>\n",
       "    </tr>\n",
       "  </thead>\n",
       "  <tbody>\n",
       "    <tr>\n",
       "      <th>0</th>\n",
       "      <td>Sira</td>\n",
       "      <td>sira@info.com</td>\n",
       "    </tr>\n",
       "    <tr>\n",
       "      <th>1</th>\n",
       "      <td>Ibrahim</td>\n",
       "      <td>ib@info.com</td>\n",
       "    </tr>\n",
       "    <tr>\n",
       "      <th>2</th>\n",
       "      <td>Moussa</td>\n",
       "      <td>mouss@info.com</td>\n",
       "    </tr>\n",
       "  </tbody>\n",
       "</table>\n",
       "</div>"
      ],
      "text/plain": [
       "  Students           Email\n",
       "0     Sira   sira@info.com\n",
       "1  Ibrahim     ib@info.com\n",
       "2   Moussa  mouss@info.com"
      ]
     },
     "execution_count": 21,
     "metadata": {},
     "output_type": "execute_result"
    }
   ],
   "source": [
    "# select a limited subset\n",
    "query = \"SELECT Students, Email FROM all_s LIMIT 3\"\n",
    "# query = \"SELECT Students, Email FROM students_df LIMIT 3\"\n",
    "subset = sqldf(query)\n",
    "subset # we have a dataframe"
   ]
  },
  {
   "cell_type": "code",
   "execution_count": 24,
   "id": "61d9b978",
   "metadata": {},
   "outputs": [
    {
     "data": {
      "text/html": [
       "<div>\n",
       "<style scoped>\n",
       "    .dataframe tbody tr th:only-of-type {\n",
       "        vertical-align: middle;\n",
       "    }\n",
       "\n",
       "    .dataframe tbody tr th {\n",
       "        vertical-align: top;\n",
       "    }\n",
       "\n",
       "    .dataframe thead th {\n",
       "        text-align: right;\n",
       "    }\n",
       "</style>\n",
       "<table border=\"1\" class=\"dataframe\">\n",
       "  <thead>\n",
       "    <tr style=\"text-align: right;\">\n",
       "      <th></th>\n",
       "      <th>Students</th>\n",
       "      <th>Gender</th>\n",
       "      <th>Age</th>\n",
       "      <th>Email</th>\n",
       "    </tr>\n",
       "  </thead>\n",
       "  <tbody>\n",
       "    <tr>\n",
       "      <th>0</th>\n",
       "      <td>Sira</td>\n",
       "      <td>Female</td>\n",
       "      <td>18</td>\n",
       "      <td>sira@info.com</td>\n",
       "    </tr>\n",
       "    <tr>\n",
       "      <th>1</th>\n",
       "      <td>Nabintou</td>\n",
       "      <td>Female</td>\n",
       "      <td>21</td>\n",
       "      <td>nab@info.com</td>\n",
       "    </tr>\n",
       "  </tbody>\n",
       "</table>\n",
       "</div>"
      ],
      "text/plain": [
       "   Students  Gender  Age          Email\n",
       "0      Sira  Female   18  sira@info.com\n",
       "1  Nabintou  Female   21   nab@info.com"
      ]
     },
     "execution_count": 24,
     "metadata": {},
     "output_type": "execute_result"
    }
   ],
   "source": [
    "# we can use \"where\" to filter results CAREFUL SQL excpets single quotes\n",
    "query = \"SELECT * FROM students_df WHERE Gender='Female' \"\n",
    "fem= sqldf(query)\n",
    "fem"
   ]
  },
  {
   "cell_type": "code",
   "execution_count": 30,
   "id": "af553b6f",
   "metadata": {},
   "outputs": [
    {
     "data": {
      "text/html": [
       "<div>\n",
       "<style scoped>\n",
       "    .dataframe tbody tr th:only-of-type {\n",
       "        vertical-align: middle;\n",
       "    }\n",
       "\n",
       "    .dataframe tbody tr th {\n",
       "        vertical-align: top;\n",
       "    }\n",
       "\n",
       "    .dataframe thead th {\n",
       "        text-align: right;\n",
       "    }\n",
       "</style>\n",
       "<table border=\"1\" class=\"dataframe\">\n",
       "  <thead>\n",
       "    <tr style=\"text-align: right;\">\n",
       "      <th></th>\n",
       "      <th>Teacher</th>\n",
       "      <th>Email</th>\n",
       "      <th>Degree</th>\n",
       "    </tr>\n",
       "  </thead>\n",
       "  <tbody>\n",
       "    <tr>\n",
       "      <th>0</th>\n",
       "      <td>Ibrahim</td>\n",
       "      <td>ib@info.com</td>\n",
       "      <td>MSc. in Data Science</td>\n",
       "    </tr>\n",
       "    <tr>\n",
       "      <th>1</th>\n",
       "      <td>Fatim</td>\n",
       "      <td>fat@info.com</td>\n",
       "      <td>MSc. Architecture</td>\n",
       "    </tr>\n",
       "  </tbody>\n",
       "</table>\n",
       "</div>"
      ],
      "text/plain": [
       "   Teacher         Email                Degree\n",
       "0  Ibrahim   ib@info.com  MSc. in Data Science\n",
       "1    Fatim  fat@info.com     MSc. Architecture"
      ]
     },
     "execution_count": 30,
     "metadata": {},
     "output_type": "execute_result"
    }
   ],
   "source": [
    "# NB us triple-quotes so we can put new lines in our statement\n",
    "query = \"\"\"SELECT Teacher, Email, Degree \n",
    "FROM teaching_assistant_df \n",
    "WHERE Degree LIKE 'MS%' \"\"\"\n",
    "masters = sqldf(query)\n",
    "masters"
   ]
  },
  {
   "cell_type": "code",
   "execution_count": 31,
   "id": "29a13683",
   "metadata": {},
   "outputs": [
    {
     "data": {
      "text/html": [
       "<div>\n",
       "<style scoped>\n",
       "    .dataframe tbody tr th:only-of-type {\n",
       "        vertical-align: middle;\n",
       "    }\n",
       "\n",
       "    .dataframe tbody tr th {\n",
       "        vertical-align: top;\n",
       "    }\n",
       "\n",
       "    .dataframe thead th {\n",
       "        text-align: right;\n",
       "    }\n",
       "</style>\n",
       "<table border=\"1\" class=\"dataframe\">\n",
       "  <thead>\n",
       "    <tr style=\"text-align: right;\">\n",
       "      <th></th>\n",
       "      <th>AVG(Age)</th>\n",
       "      <th>Gender</th>\n",
       "    </tr>\n",
       "  </thead>\n",
       "  <tbody>\n",
       "    <tr>\n",
       "      <th>0</th>\n",
       "      <td>19.5</td>\n",
       "      <td>Female</td>\n",
       "    </tr>\n",
       "    <tr>\n",
       "      <th>1</th>\n",
       "      <td>19.0</td>\n",
       "      <td>Fluid</td>\n",
       "    </tr>\n",
       "    <tr>\n",
       "      <th>2</th>\n",
       "      <td>24.5</td>\n",
       "      <td>Male</td>\n",
       "    </tr>\n",
       "  </tbody>\n",
       "</table>\n",
       "</div>"
      ],
      "text/plain": [
       "   AVG(Age)  Gender\n",
       "0      19.5  Female\n",
       "1      19.0   Fluid\n",
       "2      24.5    Male"
      ]
     },
     "execution_count": 31,
     "metadata": {},
     "output_type": "execute_result"
    }
   ],
   "source": [
    "# We can aggregate\n",
    "query =\"\"\"\n",
    "SELECT AVG(Age), Gender\n",
    "FROM students_df\n",
    "GROUP BY Gender\n",
    "\"\"\"\n",
    "av_age = sqldf(query)\n",
    "av_age"
   ]
  },
  {
   "cell_type": "code",
   "execution_count": 33,
   "id": "b9966d70",
   "metadata": {},
   "outputs": [
    {
     "data": {
      "text/plain": [
       "Gender\n",
       "Female    19.5\n",
       "Fluid     19.0\n",
       "Male      24.5\n",
       "Name: Age, dtype: float64"
      ]
     },
     "execution_count": 33,
     "metadata": {},
     "output_type": "execute_result"
    }
   ],
   "source": [
    "# What would this look like in Pandas?\n",
    "mean_age = students_df.groupby('Gender')[\"Age\"].mean()\n",
    "mean_age"
   ]
  },
  {
   "cell_type": "code",
   "execution_count": null,
   "id": "9fe664d7",
   "metadata": {},
   "outputs": [],
   "source": [
    "# Remember - we are using SQL agains DataFrames NOT a DataBase"
   ]
  },
  {
   "cell_type": "code",
   "execution_count": 37,
   "id": "aa9cc9dd",
   "metadata": {},
   "outputs": [
    {
     "data": {
      "text/html": [
       "<div>\n",
       "<style scoped>\n",
       "    .dataframe tbody tr th:only-of-type {\n",
       "        vertical-align: middle;\n",
       "    }\n",
       "\n",
       "    .dataframe tbody tr th {\n",
       "        vertical-align: top;\n",
       "    }\n",
       "\n",
       "    .dataframe thead th {\n",
       "        text-align: right;\n",
       "    }\n",
       "</style>\n",
       "<table border=\"1\" class=\"dataframe\">\n",
       "  <thead>\n",
       "    <tr style=\"text-align: right;\">\n",
       "      <th></th>\n",
       "      <th>Students</th>\n",
       "      <th>Gender</th>\n",
       "      <th>Email</th>\n",
       "      <th>Department</th>\n",
       "    </tr>\n",
       "  </thead>\n",
       "  <tbody>\n",
       "    <tr>\n",
       "      <th>0</th>\n",
       "      <td>Ibrahim</td>\n",
       "      <td>Male</td>\n",
       "      <td>ib@info.com</td>\n",
       "      <td>Business</td>\n",
       "    </tr>\n",
       "    <tr>\n",
       "      <th>1</th>\n",
       "      <td>Mamadou</td>\n",
       "      <td>Male</td>\n",
       "      <td>mam@info.com</td>\n",
       "      <td>Comp Sci</td>\n",
       "    </tr>\n",
       "    <tr>\n",
       "      <th>2</th>\n",
       "      <td>Nabintou</td>\n",
       "      <td>Female</td>\n",
       "      <td>nab@info.com</td>\n",
       "      <td>Statistics</td>\n",
       "    </tr>\n",
       "  </tbody>\n",
       "</table>\n",
       "</div>"
      ],
      "text/plain": [
       "   Students  Gender         Email  Department\n",
       "0   Ibrahim    Male   ib@info.com    Business\n",
       "1   Mamadou    Male  mam@info.com    Comp Sci\n",
       "2  Nabintou  Female  nab@info.com  Statistics"
      ]
     },
     "execution_count": 37,
     "metadata": {},
     "output_type": "execute_result"
    }
   ],
   "source": [
    "# Here is an inner join in SQL\n",
    "# Find all members that are both students and teaching assistants\n",
    "# query = \"\"\"\n",
    "# SELECT students_df.Students, students_df.Gender, students_df.Email,\n",
    "# teaching_assistant_df.Department\n",
    "# FROM students_df INNER JOIN teaching_assistant_df\n",
    "# ON students_df.Email = teaching_assistant_df.Email\n",
    "# \"\"\"\n",
    "# or\n",
    "query = \"\"\"\n",
    "SELECT st.Students, st.Gender, st.Email, ta.Department\n",
    "FROM students_df st INNER JOIN teaching_assistant_df ta\n",
    "ON st.Email = ta.Email\n",
    "\"\"\"\n",
    "\n",
    "result = sqldf(query)\n",
    "result"
   ]
  },
  {
   "cell_type": "markdown",
   "id": "9731dfd8",
   "metadata": {},
   "source": [
    "### Review 3 - DB"
   ]
  },
  {
   "cell_type": "code",
   "execution_count": 38,
   "id": "7341153f",
   "metadata": {},
   "outputs": [],
   "source": [
    "import sqlite3"
   ]
  },
  {
   "cell_type": "code",
   "execution_count": 39,
   "id": "74b6ab90",
   "metadata": {},
   "outputs": [],
   "source": [
    "# we only need ot run this ONCE to make the table\n",
    "conn = sqlite3.connect('mydb')\n",
    "curs = conn.cursor()\n",
    "st = '''\n",
    "CREATE TABLE students\n",
    "(\n",
    "    email VARCHAR(32) PRIMARY KEY,\n",
    "    gender VARCHAR(32),\n",
    "    student VARCHAR(32),\n",
    "    age INT\n",
    ")\n",
    "'''\n",
    "curs.execute(st)\n",
    "conn.commit() # commit all changes\n",
    "conn.close() # tidy up"
   ]
  },
  {
   "cell_type": "code",
   "execution_count": 40,
   "id": "5b2344e8",
   "metadata": {},
   "outputs": [],
   "source": [
    "# we only need ot run this ONCE to make the table\n",
    "conn = sqlite3.connect('mydb')\n",
    "curs = conn.cursor()\n",
    "st = '''\n",
    "CREATE TABLE assistants\n",
    "(\n",
    "    email VARCHAR(32) PRIMARY KEY,\n",
    "    degree VARCHAR(32),\n",
    "    teacher VARCHAR(32),\n",
    "    department VARCHAR(32)\n",
    ")\n",
    "'''\n",
    "curs.execute(st)\n",
    "conn.commit() # commit all changes\n",
    "conn.close() # tidy up"
   ]
  },
  {
   "cell_type": "code",
   "execution_count": 72,
   "id": "353ebda3",
   "metadata": {},
   "outputs": [
    {
     "ename": "IntegrityError",
     "evalue": "UNIQUE constraint failed: students.email",
     "output_type": "error",
     "traceback": [
      "\u001b[1;31m---------------------------------------------------------------------------\u001b[0m",
      "\u001b[1;31mIntegrityError\u001b[0m                            Traceback (most recent call last)",
      "Input \u001b[1;32mIn [72]\u001b[0m, in \u001b[0;36m<cell line: 13>\u001b[1;34m()\u001b[0m\n\u001b[0;32m     16\u001b[0m     a  \u001b[38;5;241m=\u001b[39m students_df\u001b[38;5;241m.\u001b[39mloc[i][\u001b[38;5;124m'\u001b[39m\u001b[38;5;124mAge\u001b[39m\u001b[38;5;124m'\u001b[39m]\n\u001b[0;32m     17\u001b[0m     g  \u001b[38;5;241m=\u001b[39m students_df\u001b[38;5;241m.\u001b[39mloc[i][\u001b[38;5;124m'\u001b[39m\u001b[38;5;124mGender\u001b[39m\u001b[38;5;124m'\u001b[39m]\n\u001b[1;32m---> 18\u001b[0m     \u001b[43mcurs\u001b[49m\u001b[38;5;241;43m.\u001b[39;49m\u001b[43mexecute\u001b[49m\u001b[43m(\u001b[49m\u001b[43mst\u001b[49m\u001b[43m,\u001b[49m\u001b[43m \u001b[49m\u001b[43m(\u001b[49m\u001b[43me\u001b[49m\u001b[43m,\u001b[49m\u001b[43m \u001b[49m\u001b[43mg\u001b[49m\u001b[43m,\u001b[49m\u001b[43m \u001b[49m\u001b[43ms\u001b[49m\u001b[43m,\u001b[49m\u001b[43m \u001b[49m\u001b[43ma\u001b[49m\u001b[43m)\u001b[49m\u001b[43m)\u001b[49m\n\u001b[0;32m     19\u001b[0m     conn\u001b[38;5;241m.\u001b[39mcommit()\n\u001b[0;32m     20\u001b[0m conn\u001b[38;5;241m.\u001b[39mclose()\n",
      "\u001b[1;31mIntegrityError\u001b[0m: UNIQUE constraint failed: students.email"
     ]
    }
   ],
   "source": [
    "# populate the students table\n",
    "# we already have a DataFrame called students_df\n",
    "# prepare our database access\n",
    "conn = sqlite3.connect('mydb')\n",
    "curs = conn.cursor()\n",
    "st   = '''\n",
    "INSERT INTO students\n",
    "VALUES (?, ?, ?, ?)\n",
    "'''\n",
    "# CAREFUL - only run this ONCE to populate the database\n",
    "# we can loop over the dataframe items (iteration)\n",
    "num_students = students_df['Students'].nunique()\n",
    "for i in range(num_students):\n",
    "    e  = students_df.loc[i]['Email']\n",
    "    s  = students_df.loc[i]['Students']\n",
    "    a  = students_df.loc[i]['Age']\n",
    "    g  = students_df.loc[i]['Gender']\n",
    "    curs.execute(st, (e, g, s, a))\n",
    "    conn.commit()\n",
    "conn.close() # tidy up "
   ]
  },
  {
   "cell_type": "code",
   "execution_count": 73,
   "id": "b2d113b0",
   "metadata": {},
   "outputs": [
    {
     "data": {
      "text/plain": [
       "[('Sira', 'Female', b'\\x12\\x00\\x00\\x00\\x00\\x00\\x00\\x00', 'sira@info.com'),\n",
       " ('Ibrahim', 'Male', b'\\x1b\\x00\\x00\\x00\\x00\\x00\\x00\\x00', 'ib@info.com'),\n",
       " ('Moussa', 'Fluid', b'\\x13\\x00\\x00\\x00\\x00\\x00\\x00\\x00', 'mouss@info.com'),\n",
       " ('Mamadou', 'Male', b'\\x16\\x00\\x00\\x00\\x00\\x00\\x00\\x00', 'mam@info.com'),\n",
       " ('Nabintou', 'Female', b'\\x15\\x00\\x00\\x00\\x00\\x00\\x00\\x00', 'nab@info.com')]"
      ]
     },
     "execution_count": 73,
     "metadata": {},
     "output_type": "execute_result"
    }
   ],
   "source": [
    "# Now read back the students fro mteh DB\n",
    "conn = sqlite3.connect('mydb')\n",
    "curs = conn.cursor()\n",
    "st = '''\n",
    "SELECT student, gender, age, email FROM students\n",
    "'''\n",
    "curs.execute(st)\n",
    "# we can get the results of this\n",
    "rows = curs.fetchall() # this gets the results of our executed statement\n",
    "conn.commit()\n",
    "conn.close()\n",
    "rows"
   ]
  },
  {
   "cell_type": "code",
   "execution_count": 74,
   "id": "093f9d0e",
   "metadata": {},
   "outputs": [
    {
     "data": {
      "text/html": [
       "<div>\n",
       "<style scoped>\n",
       "    .dataframe tbody tr th:only-of-type {\n",
       "        vertical-align: middle;\n",
       "    }\n",
       "\n",
       "    .dataframe tbody tr th {\n",
       "        vertical-align: top;\n",
       "    }\n",
       "\n",
       "    .dataframe thead th {\n",
       "        text-align: right;\n",
       "    }\n",
       "</style>\n",
       "<table border=\"1\" class=\"dataframe\">\n",
       "  <thead>\n",
       "    <tr style=\"text-align: right;\">\n",
       "      <th></th>\n",
       "      <th>Teacher</th>\n",
       "      <th>Email</th>\n",
       "      <th>Degree</th>\n",
       "      <th>Department</th>\n",
       "    </tr>\n",
       "  </thead>\n",
       "  <tbody>\n",
       "    <tr>\n",
       "      <th>0</th>\n",
       "      <td>Ibrahim</td>\n",
       "      <td>ib@info.com</td>\n",
       "      <td>MSc. in Data Science</td>\n",
       "      <td>Business</td>\n",
       "    </tr>\n",
       "    <tr>\n",
       "      <th>1</th>\n",
       "      <td>Nabintou</td>\n",
       "      <td>nab@info.com</td>\n",
       "      <td>BSc. in Statistics</td>\n",
       "      <td>Statistics</td>\n",
       "    </tr>\n",
       "    <tr>\n",
       "      <th>2</th>\n",
       "      <td>Mamadou</td>\n",
       "      <td>mam@info.com</td>\n",
       "      <td>BSc. Comp Sci</td>\n",
       "      <td>Comp Sci</td>\n",
       "    </tr>\n",
       "    <tr>\n",
       "      <th>3</th>\n",
       "      <td>Fatim</td>\n",
       "      <td>fat@info.com</td>\n",
       "      <td>MSc. Architecture</td>\n",
       "      <td>Engineering</td>\n",
       "    </tr>\n",
       "    <tr>\n",
       "      <th>4</th>\n",
       "      <td>Aziz</td>\n",
       "      <td>aziz@info.com</td>\n",
       "      <td>BSc. in Accounting</td>\n",
       "      <td>Business</td>\n",
       "    </tr>\n",
       "  </tbody>\n",
       "</table>\n",
       "</div>"
      ],
      "text/plain": [
       "    Teacher          Email                Degree   Department\n",
       "0   Ibrahim    ib@info.com  MSc. in Data Science     Business\n",
       "1  Nabintou   nab@info.com    BSc. in Statistics   Statistics\n",
       "2   Mamadou   mam@info.com         BSc. Comp Sci     Comp Sci\n",
       "3     Fatim   fat@info.com     MSc. Architecture  Engineering\n",
       "4      Aziz  aziz@info.com    BSc. in Accounting     Business"
      ]
     },
     "execution_count": 74,
     "metadata": {},
     "output_type": "execute_result"
    }
   ],
   "source": [
    "teaching_assistant_df"
   ]
  },
  {
   "cell_type": "code",
   "execution_count": 83,
   "id": "817bb636",
   "metadata": {},
   "outputs": [],
   "source": [
    "# Do it all again, for the Teaching Assistants\n",
    "# ... write all the teaching_assistant_df data into the DB\n",
    "# prepare our database access\n",
    "conn = sqlite3.connect('mydb')\n",
    "curs = conn.cursor()\n",
    "st   = '''\n",
    "INSERT INTO assistants\n",
    "VALUES (?, ?, ?, ?)\n",
    "'''\n",
    "# CAREFUL - only run this ONCE to populate the database\n",
    "num_assistants = teaching_assistant_df['Teacher'].nunique()\n",
    "for i in range(num_assistants):\n",
    "    e  = teaching_assistant_df.loc[i]['Email']\n",
    "    deg  = teaching_assistant_df.loc[i]['Degree']\n",
    "    t  = teaching_assistant_df.loc[i]['Teacher']\n",
    "    dep  = teaching_assistant_df.loc[i]['Department']\n",
    "    curs.execute(st, (e, deg, t, dep))\n",
    "    conn.commit()\n",
    "conn.close() # tidy up "
   ]
  },
  {
   "cell_type": "code",
   "execution_count": 87,
   "id": "7d5b246e",
   "metadata": {},
   "outputs": [
    {
     "data": {
      "text/plain": [
       "[('Ibrahim', 'ib@info.com', 'MSc. in Data Science', 'Business'),\n",
       " ('Nabintou', 'nab@info.com', 'BSc. in Statistics', 'Statistics'),\n",
       " ('Mamadou', 'mam@info.com', 'BSc. Comp Sci', 'Comp Sci'),\n",
       " ('Fatim', 'fat@info.com', 'MSc. Architecture', 'Engineering'),\n",
       " ('Aziz', 'aziz@info.com', 'BSc. in Accounting', 'Business')]"
      ]
     },
     "execution_count": 87,
     "metadata": {},
     "output_type": "execute_result"
    }
   ],
   "source": [
    "# .. and read back the TAs from the DB\n",
    "conn = sqlite3.connect('mydb')\n",
    "curs = conn.cursor()\n",
    "st = '''\n",
    "SELECT teacher, email, degree, department FROM assistants\n",
    "'''\n",
    "curs.execute(st)\n",
    "# we can get the results of this\n",
    "rows = curs.fetchall() # this gets the results of our executed statement\n",
    "conn.commit()\n",
    "conn.close()\n",
    "rows"
   ]
  },
  {
   "cell_type": "code",
   "execution_count": 99,
   "id": "86ac0bd9",
   "metadata": {},
   "outputs": [
    {
     "data": {
      "text/plain": [
       "[('Ibrahim', 'ib@info.com', 'Ibrahim', 'ib@info.com'),\n",
       " ('Mamadou', 'mam@info.com', 'Mamadou', 'mam@info.com'),\n",
       " ('Nabintou', 'nab@info.com', 'Nabintou', 'nab@info.com')]"
      ]
     },
     "execution_count": 99,
     "metadata": {},
     "output_type": "execute_result"
    }
   ],
   "source": [
    "# Challenge - read back from BOTH tables but only where email matches\n",
    "conn = sqlite3.connect('mydb')\n",
    "curs = conn.cursor()\n",
    "st = '''\n",
    "SELECT  t.teacher, t.email, s.student, s.email FROM students s, assistants t\n",
    "WHERE t.email = s.email\n",
    "'''\n",
    "curs.execute(st)\n",
    "# we can get the results of this\n",
    "rows = curs.fetchall() # this gets the results of our executed statement\n",
    "conn.commit()\n",
    "conn.close()\n",
    "rows"
   ]
  }
 ],
 "metadata": {
  "kernelspec": {
   "display_name": "Python 3 (ipykernel)",
   "language": "python",
   "name": "python3"
  },
  "language_info": {
   "codemirror_mode": {
    "name": "ipython",
    "version": 3
   },
   "file_extension": ".py",
   "mimetype": "text/x-python",
   "name": "python",
   "nbconvert_exporter": "python",
   "pygments_lexer": "ipython3",
   "version": "3.9.12"
  }
 },
 "nbformat": 4,
 "nbformat_minor": 5
}
