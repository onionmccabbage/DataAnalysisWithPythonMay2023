{
 "cells": [
  {
   "cell_type": "markdown",
   "id": "3efe3dda",
   "metadata": {},
   "source": [
    "### Databases and Python"
   ]
  },
  {
   "cell_type": "code",
   "execution_count": 1,
   "id": "489fccc4",
   "metadata": {},
   "outputs": [],
   "source": [
    "# Python comes with a database built in. It is called sqlite3\n",
    "import sqlite3"
   ]
  },
  {
   "cell_type": "markdown",
   "id": "d16fc1bc",
   "metadata": {},
   "source": [
    "#### Create a database with one table"
   ]
  },
  {
   "cell_type": "code",
   "execution_count": 7,
   "id": "869fbbb8",
   "metadata": {},
   "outputs": [],
   "source": [
    "# here we tell Python to either create or use a database\n",
    "# NB we only need ot run this ONCE to make the table\n",
    "conn = sqlite3.connect('mydb')\n",
    "curs = conn.cursor() # the cursor lets us access members of the database\n",
    "# we need an SQL statement\n",
    "st = '''\n",
    "CREATE TABLE zoo\n",
    "(\n",
    "    creature VARCHAR(32) PRIMARY KEY,\n",
    "    count INT,\n",
    "    cost FLOAT\n",
    ")\n",
    "'''\n",
    "curs.execute(st)\n",
    "conn.commit() # commit all changes\n",
    "conn.close() # tidy up"
   ]
  },
  {
   "cell_type": "markdown",
   "id": "df081e94",
   "metadata": {},
   "source": [
    "#### Populate the DB table with data"
   ]
  },
  {
   "cell_type": "code",
   "execution_count": 8,
   "id": "01bd25ed",
   "metadata": {},
   "outputs": [],
   "source": [
    "conn = sqlite3.connect('mydb')\n",
    "curs = conn.cursor()\n",
    "st = '''\n",
    "INSERT INTO zoo\n",
    "VALUES (\"Penguin\", 16, 0.62)\n",
    "'''\n",
    "curs.execute(st)\n",
    "conn.commit()\n",
    "conn.close()"
   ]
  },
  {
   "cell_type": "markdown",
   "id": "dd33869c",
   "metadata": {},
   "source": [
    "#### Read back from the database table"
   ]
  },
  {
   "cell_type": "code",
   "execution_count": 14,
   "id": "a9e9a886",
   "metadata": {},
   "outputs": [
    {
     "data": {
      "text/plain": [
       "[('Penguin', 16, 0.62),\n",
       " ('Albatros', 1, 120.99),\n",
       " ('Bear', 5, 323.56),\n",
       " ('Carp', 120, 87.0),\n",
       " ('Deer', 121, 12.99),\n",
       " ('Elk', 7, 73.47)]"
      ]
     },
     "execution_count": 14,
     "metadata": {},
     "output_type": "execute_result"
    }
   ],
   "source": [
    "conn = sqlite3.connect('mydb')\n",
    "curs = conn.cursor()\n",
    "st = '''\n",
    "SELECT creature, count, cost FROM zoo\n",
    "'''\n",
    "curs.execute(st)\n",
    "# we can get the results of this\n",
    "rows = curs.fetchall() # this gets the results of our executed statement\n",
    "conn.commit()\n",
    "conn.close()\n",
    "rows"
   ]
  },
  {
   "cell_type": "markdown",
   "id": "da333e99",
   "metadata": {},
   "source": [
    "#### Update values in the database"
   ]
  },
  {
   "cell_type": "code",
   "execution_count": 13,
   "id": "63be1bfa",
   "metadata": {},
   "outputs": [],
   "source": [
    "# First we will add a load more creatures (here is a Python list of dictionaries)\n",
    "creatures = [ # normally this comes from JSON or API, DataFrame etc.\n",
    "    {'creature':'Albatros', 'count':1,      'cost':120.99},\n",
    "    {'creature':'Bear',     'count':5,      'cost':323.56},\n",
    "    {'creature':'Carp',     'count':120,    'cost':87.00},\n",
    "    {'creature':'Deer',     'count':121,    'cost':12.99},\n",
    "    {'creature':'Elk',      'count':7,      'cost':73.47},\n",
    "]\n",
    "\n",
    "# prepare our database access\n",
    "conn = sqlite3.connect('mydb')\n",
    "curs = conn.cursor()\n",
    "st   = '''\n",
    "INSERT INTO zoo\n",
    "VALUES (?, ?, ?)\n",
    "'''\n",
    "# CAREFUL - only run this ONCE to populate the database\n",
    "\n",
    "# we can loop over this data (iteration)\n",
    "for item in creatures:\n",
    "    # commit each creature to the database\n",
    "    # print(item['creature'])\n",
    "    cr  = item['creature']\n",
    "    qty = item['count']\n",
    "    co  = item['cost']\n",
    "    curs.execute(st, (cr, qty, co))\n",
    "    conn.commit()\n",
    "conn.close() # tidy up "
   ]
  },
  {
   "cell_type": "code",
   "execution_count": null,
   "id": "a4e7429d",
   "metadata": {},
   "outputs": [],
   "source": []
  }
 ],
 "metadata": {
  "kernelspec": {
   "display_name": "Python 3 (ipykernel)",
   "language": "python",
   "name": "python3"
  },
  "language_info": {
   "codemirror_mode": {
    "name": "ipython",
    "version": 3
   },
   "file_extension": ".py",
   "mimetype": "text/x-python",
   "name": "python",
   "nbconvert_exporter": "python",
   "pygments_lexer": "ipython3",
   "version": "3.9.12"
  }
 },
 "nbformat": 4,
 "nbformat_minor": 5
}
